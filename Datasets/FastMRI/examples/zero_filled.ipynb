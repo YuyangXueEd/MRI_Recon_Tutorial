{
 "cells": [
  {
   "cell_type": "markdown",
   "metadata": {
    "collapsed": true,
    "pycharm": {
     "name": "#%% md\n"
    }
   },
   "source": [
    "# Zero Filled\n",
    "\n",
    "This is a simple baseline, a demonstration on a submission."
   ]
  },
  {
   "cell_type": "code",
   "execution_count": 14,
   "outputs": [],
   "source": [
    "import os\n",
    "import fastmri\n",
    "import h5py\n",
    "from fastmri.data import transforms as T\n",
    "from fastmri.data.mri_data import et_query\n",
    "from tqdm import tqdm\n",
    "from pathlib import Path\n",
    "\n",
    "import xml.etree.ElementTree as etree"
   ],
   "metadata": {
    "collapsed": false,
    "pycharm": {
     "name": "#%%\n"
    }
   }
  },
  {
   "cell_type": "markdown",
   "source": [
    "We set data source directory and output directory, together with which challenge we want to submit. Here we only choose ` knee_sc`."
   ],
   "metadata": {
    "collapsed": false,
    "pycharm": {
     "name": "#%% md\n"
    }
   }
  },
  {
   "cell_type": "code",
   "execution_count": 30,
   "outputs": [
    {
     "name": "stdout",
     "output_type": "stream",
     "text": [
      "[PosixPath('Datasets/Val/file1000000.h5')]\n"
     ]
    },
    {
     "name": "stderr",
     "output_type": "stream",
     "text": [
      "100%|█████████████████████████████████████████████████████████████████████████████████████| 1/1 [00:00<00:00,  3.42it/s]\n"
     ]
    }
   ],
   "source": [
    "DATA = 'Datasets'\n",
    "PARTITION = 'Val'\n",
    "challenge = 'knee_sc'\n",
    "\n",
    "data_dir = Path(os.path.join(DATA, PARTITION))\n",
    "\n",
    "out_dir = Path('reconstruction')\n",
    "\n",
    "reconstructions = {}\n",
    "print(list(data_dir.glob(\"*.h5\")))\n",
    "\n",
    "for fname in tqdm(list(data_dir.glob(\"*.h5\"))):\n",
    "    with h5py.File(fname, \"r\") as hf:\n",
    "        et_root = etree.fromstring(hf[\"ismrmrd_header\"][()])\n",
    "        masked_kspace = T.to_tensor(hf[\"kspace\"][()])\n",
    "\n",
    "        # extract target image width, height from ismrmrd header\n",
    "        enc = [\"encoding\", \"encodedSpace\", \"matrixSize\"]\n",
    "        crop_size = (\n",
    "            int(et_query(et_root, enc + [\"x\"])),\n",
    "            int(et_query(et_root, enc + [\"y\"]))\n",
    "        )\n",
    "\n",
    "        # inverse Fourier Transform to get zero filled solution\n",
    "        image = fastmri.ifft2c(masked_kspace)\n",
    "\n",
    "        # check for FLAIR 203\n",
    "        if image.shape[-2] < crop_size[1]:\n",
    "            cro_size (image.shape[-2], image.shape[-2])\n",
    "\n",
    "        # crop input image\n",
    "        image = T.complex_center_crop(image, crop_size)\n",
    "\n",
    "        # absolute value\n",
    "        image = fastmri.complex_abs(image)\n",
    "\n",
    "        # apply root-sum-of-squares if multicoil data\n",
    "        if challenge == 'multicoil':\n",
    "            image = fastmri.rss(image, dim=1)\n",
    "\n",
    "        reconstructions[fname.name] = image\n",
    "\n",
    "fastmri.save_reconstructions(reconstructions, out_dir)"
   ],
   "metadata": {
    "collapsed": false,
    "pycharm": {
     "name": "#%%\n"
    }
   }
  }
 ],
 "metadata": {
  "kernelspec": {
   "display_name": "Python 3",
   "language": "python",
   "name": "python3"
  },
  "language_info": {
   "codemirror_mode": {
    "name": "ipython",
    "version": 2
   },
   "file_extension": ".py",
   "mimetype": "text/x-python",
   "name": "python",
   "nbconvert_exporter": "python",
   "pygments_lexer": "ipython2",
   "version": "2.7.6"
  }
 },
 "nbformat": 4,
 "nbformat_minor": 0
}